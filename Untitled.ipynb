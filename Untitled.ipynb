{
 "cells": [
  {
   "cell_type": "code",
   "execution_count": 53,
   "id": "d920100a",
   "metadata": {},
   "outputs": [],
   "source": [
    "from multiagent.MPE_env import GraphMPEEnv, MPEEnv"
   ]
  },
  {
   "cell_type": "code",
   "execution_count": 84,
   "id": "44294597",
   "metadata": {},
   "outputs": [],
   "source": [
    "class Argument:\n",
    "    def __init__(self, scenario_name, num_agents =2, \n",
    "                 num_obstacles = 3, \n",
    "                 world_size=2, \n",
    "                 episode_length=200,\n",
    "                algorithm_name='rmappo'):\n",
    "        self.scenario_name = scenario_name\n",
    "        self.world_size = world_size\n",
    "        self.num_agents = num_agents\n",
    "        self.num_scripted_agents = 0\n",
    "        self.collaborative = True\n",
    "        self.max_speed = 2\n",
    "        self.collision_rew = 5\n",
    "        self.goal_rew = 5\n",
    "        self.min_dist_thresh = 0.05\n",
    "        self.use_dones = False\n",
    "        self.graph_feat_type = 'global'\n",
    "        self.episode_length = episode_length\n",
    "        self.num_obstacles = num_obstacles\n",
    "        self.obs_type = 'global'\n",
    "        self.use_comm = False\n",
    "        self.num_nbd_entities = 3\n",
    "        self.max_edge_dist = 1\n",
    "        self.algorithm_name = algorithm_name\n",
    "    \n",
    "args = Argument(scenario_name='navigation_graph')"
   ]
  },
  {
   "cell_type": "code",
   "execution_count": 85,
   "id": "ad61fa69",
   "metadata": {},
   "outputs": [],
   "source": [
    "env2 = MPEEnv(args)"
   ]
  },
  {
   "cell_type": "code",
   "execution_count": 69,
   "id": "b07223d1",
   "metadata": {},
   "outputs": [
    {
     "data": {
      "text/plain": [
       "[None]"
      ]
     },
     "execution_count": 69,
     "metadata": {},
     "output_type": "execute_result"
    }
   ],
   "source": [
    "env2.render()"
   ]
  },
  {
   "cell_type": "code",
   "execution_count": 86,
   "id": "d440781f",
   "metadata": {},
   "outputs": [],
   "source": [
    "env = GraphMPEEnv(args)"
   ]
  },
  {
   "cell_type": "code",
   "execution_count": 87,
   "id": "dc86c505",
   "metadata": {},
   "outputs": [
    {
     "data": {
      "text/plain": [
       "([array([ 0.        ,  0.        ,  0.91366529,  0.62900255, -0.85425589,\n",
       "         -0.19166659]),\n",
       "  array([ 0.        ,  0.        , -0.73548163, -0.88788476,  0.26863864,\n",
       "          1.2729139 ])],\n",
       " [array([0]), array([1])],\n",
       " [array([[ 0.        ,  0.        ,  0.91366529,  0.62900255,  0.05940939,\n",
       "           0.43733597,  0.        ],\n",
       "         [ 0.        ,  0.        , -0.73548163, -0.88788476, -0.46684298,\n",
       "           0.38502914,  0.        ],\n",
       "         [ 0.        ,  0.        ,  0.05940939,  0.43733597,  0.05940939,\n",
       "           0.43733597,  1.        ],\n",
       "         [ 0.        ,  0.        , -0.46684298,  0.38502914, -0.46684298,\n",
       "           0.38502914,  1.        ],\n",
       "         [ 0.        ,  0.        , -0.26121398,  0.69539288, -0.26121398,\n",
       "           0.69539288,  2.        ],\n",
       "         [ 0.        ,  0.        , -0.43455639,  0.0672105 , -0.43455639,\n",
       "           0.0672105 ,  2.        ],\n",
       "         [ 0.        ,  0.        ,  0.40484764,  0.17853631,  0.40484764,\n",
       "           0.17853631,  2.        ]]),\n",
       "  array([[ 0.        ,  0.        ,  0.91366529,  0.62900255,  0.05940939,\n",
       "           0.43733597,  0.        ],\n",
       "         [ 0.        ,  0.        , -0.73548163, -0.88788476, -0.46684298,\n",
       "           0.38502914,  0.        ],\n",
       "         [ 0.        ,  0.        ,  0.05940939,  0.43733597,  0.05940939,\n",
       "           0.43733597,  1.        ],\n",
       "         [ 0.        ,  0.        , -0.46684298,  0.38502914, -0.46684298,\n",
       "           0.38502914,  1.        ],\n",
       "         [ 0.        ,  0.        , -0.26121398,  0.69539288, -0.26121398,\n",
       "           0.69539288,  2.        ],\n",
       "         [ 0.        ,  0.        , -0.43455639,  0.0672105 , -0.43455639,\n",
       "           0.0672105 ,  2.        ],\n",
       "         [ 0.        ,  0.        ,  0.40484764,  0.17853631,  0.40484764,\n",
       "           0.17853631,  2.        ]])],\n",
       " [array([[0.        , 2.24067683, 0.8754937 , 1.40190089, 1.17675357,\n",
       "          1.46058619, 0.6795699 ],\n",
       "         [2.24067683, 0.        , 1.54533546, 1.30095216, 1.65278489,\n",
       "          1.00138052, 1.56128303],\n",
       "         [0.8754937 , 1.54533546, 0.        , 0.52884551, 0.41157347,\n",
       "          0.61724797, 0.43163045],\n",
       "         [1.40190089, 1.30095216, 0.52884551, 0.        , 0.37230222,\n",
       "          0.31945439, 0.89581462],\n",
       "         [1.17675357, 1.65278489, 0.41157347, 0.37230222, 0.        ,\n",
       "          0.65165995, 0.84307698],\n",
       "         [1.46058619, 1.00138052, 0.61724797, 0.31945439, 0.65165995,\n",
       "          0.        , 0.84675413],\n",
       "         [0.6795699 , 1.56128303, 0.43163045, 0.89581462, 0.84307698,\n",
       "          0.84675413, 0.        ]]),\n",
       "  array([[0.        , 2.24067683, 0.8754937 , 1.40190089, 1.17675357,\n",
       "          1.46058619, 0.6795699 ],\n",
       "         [2.24067683, 0.        , 1.54533546, 1.30095216, 1.65278489,\n",
       "          1.00138052, 1.56128303],\n",
       "         [0.8754937 , 1.54533546, 0.        , 0.52884551, 0.41157347,\n",
       "          0.61724797, 0.43163045],\n",
       "         [1.40190089, 1.30095216, 0.52884551, 0.        , 0.37230222,\n",
       "          0.31945439, 0.89581462],\n",
       "         [1.17675357, 1.65278489, 0.41157347, 0.37230222, 0.        ,\n",
       "          0.65165995, 0.84307698],\n",
       "         [1.46058619, 1.00138052, 0.61724797, 0.31945439, 0.65165995,\n",
       "          0.        , 0.84675413],\n",
       "         [0.6795699 , 1.56128303, 0.43163045, 0.89581462, 0.84307698,\n",
       "          0.84675413, 0.        ]])])"
      ]
     },
     "execution_count": 87,
     "metadata": {},
     "output_type": "execute_result"
    }
   ],
   "source": [
    "env.reset()"
   ]
  },
  {
   "cell_type": "code",
   "execution_count": 88,
   "id": "b4768b93",
   "metadata": {},
   "outputs": [],
   "source": [
    "obs_n, agent_id_n, node_obs_n, adj_n, reward_n, done_n, info_n = env.step([[0,0,1,0,0],[1,0,0,0,0]])"
   ]
  },
  {
   "cell_type": "code",
   "execution_count": 89,
   "id": "d7a2c789",
   "metadata": {},
   "outputs": [
    {
     "data": {
      "text/plain": [
       "[None]"
      ]
     },
     "execution_count": 89,
     "metadata": {},
     "output_type": "execute_result"
    }
   ],
   "source": [
    "env.render()"
   ]
  },
  {
   "cell_type": "code",
   "execution_count": 91,
   "id": "3fad3e30",
   "metadata": {},
   "outputs": [
    {
     "data": {
      "text/plain": [
       "array([-5.00000000e-001,  1.31045114e-254,  8.63665288e-001,\n",
       "        6.29002554e-001, -8.04255894e-001, -1.91666588e-001])"
      ]
     },
     "execution_count": 91,
     "metadata": {},
     "output_type": "execute_result"
    }
   ],
   "source": [
    "obs_n[0]"
   ]
  },
  {
   "cell_type": "code",
   "execution_count": 92,
   "id": "df308583",
   "metadata": {},
   "outputs": [
    {
     "data": {
      "text/plain": [
       "(7, 7)"
      ]
     },
     "execution_count": 92,
     "metadata": {},
     "output_type": "execute_result"
    }
   ],
   "source": [
    "node_obs_n[0].shape"
   ]
  },
  {
   "cell_type": "code",
   "execution_count": 94,
   "id": "e6c563ec",
   "metadata": {},
   "outputs": [
    {
     "data": {
      "text/plain": [
       "array([[0.        , 2.20413656, 0.82677907, 1.35269187, 1.12683674,\n",
       "        1.41456348, 0.64298793],\n",
       "       [2.20413656, 0.        , 1.54533546, 1.30095216, 1.65278489,\n",
       "        1.00138052, 1.56128303],\n",
       "       [0.82677907, 1.54533546, 0.        , 0.52884551, 0.41157347,\n",
       "        0.61724797, 0.43163045],\n",
       "       [1.35269187, 1.30095216, 0.52884551, 0.        , 0.37230222,\n",
       "        0.31945439, 0.89581462],\n",
       "       [1.12683674, 1.65278489, 0.41157347, 0.37230222, 0.        ,\n",
       "        0.65165995, 0.84307698],\n",
       "       [1.41456348, 1.00138052, 0.61724797, 0.31945439, 0.65165995,\n",
       "        0.        , 0.84675413],\n",
       "       [0.64298793, 1.56128303, 0.43163045, 0.89581462, 0.84307698,\n",
       "        0.84675413, 0.        ]])"
      ]
     },
     "execution_count": 94,
     "metadata": {},
     "output_type": "execute_result"
    }
   ],
   "source": [
    "adj_n[0]"
   ]
  },
  {
   "cell_type": "code",
   "execution_count": null,
   "id": "84c8e90c",
   "metadata": {},
   "outputs": [],
   "source": []
  }
 ],
 "metadata": {
  "kernelspec": {
   "display_name": "maddpg",
   "language": "python",
   "name": "maddpg"
  },
  "language_info": {
   "codemirror_mode": {
    "name": "ipython",
    "version": 3
   },
   "file_extension": ".py",
   "mimetype": "text/x-python",
   "name": "python",
   "nbconvert_exporter": "python",
   "pygments_lexer": "ipython3",
   "version": "3.9.18"
  }
 },
 "nbformat": 4,
 "nbformat_minor": 5
}
